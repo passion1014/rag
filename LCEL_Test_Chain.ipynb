{
  "nbformat": 4,
  "nbformat_minor": 0,
  "metadata": {
    "colab": {
      "provenance": [],
      "include_colab_link": true
    },
    "kernelspec": {
      "name": "python3",
      "display_name": "Python 3"
    },
    "language_info": {
      "name": "python"
    }
  },
  "cells": [
    {
      "cell_type": "markdown",
      "metadata": {
        "id": "view-in-github",
        "colab_type": "text"
      },
      "source": [
        "<a href=\"https://colab.research.google.com/github/passion1014/rag/blob/main/LCEL_Test_Chain.ipynb\" target=\"_parent\"><img src=\"https://colab.research.google.com/assets/colab-badge.svg\" alt=\"Open In Colab\"/></a>"
      ]
    },
    {
      "cell_type": "markdown",
      "source": [
        "# Common Setting"
      ],
      "metadata": {
        "id": "GME8mUXhzss7"
      }
    },
    {
      "cell_type": "code",
      "source": [
        "# !pip install langchain\n",
        "# !pip install langchain_core\n",
        "# !pip install langchain_openai\n",
        "# !pip install langchain_community\n",
        "# !pip install langchain_experimental\n",
        "# !pip install qrcode\n",
        "# !pip install geocoder\n",
        "# !pip install fpdf\n",
        "# !pip install requests\n",
        "# !pip install python-pptx\n",
        "!pip install pyqrcode"
      ],
      "metadata": {
        "id": "OpHX6xet3hj5",
        "colab": {
          "base_uri": "https://localhost:8080/"
        },
        "outputId": "97378b32-a4db-4ffd-f84d-eddc35bc64b1"
      },
      "execution_count": 29,
      "outputs": [
        {
          "output_type": "stream",
          "name": "stdout",
          "text": [
            "Collecting pyqrcode\n",
            "  Downloading PyQRCode-1.2.1.zip (41 kB)\n",
            "\u001b[?25l     \u001b[90m━━━━━━━━━━━━━━━━━━━━━━━━━━━━━━━━━━━━━━━━\u001b[0m \u001b[32m0.0/41.9 kB\u001b[0m \u001b[31m?\u001b[0m eta \u001b[36m-:--:--\u001b[0m\r\u001b[2K     \u001b[90m━━━━━━━━━━━━━━━━━━━━━━━━━━━━━━━━━━━━━━━━\u001b[0m \u001b[32m41.9/41.9 kB\u001b[0m \u001b[31m2.1 MB/s\u001b[0m eta \u001b[36m0:00:00\u001b[0m\n",
            "\u001b[?25h  Preparing metadata (setup.py) ... \u001b[?25l\u001b[?25hdone\n",
            "Building wheels for collected packages: pyqrcode\n",
            "  Building wheel for pyqrcode (setup.py) ... \u001b[?25l\u001b[?25hdone\n",
            "  Created wheel for pyqrcode: filename=PyQRCode-1.2.1-py3-none-any.whl size=36223 sha256=265d3958ba3eb892b6da618e81eb0fe67370dedb6db7e3ee9f239eae7dad779c\n",
            "  Stored in directory: /root/.cache/pip/wheels/34/2d/20/082874e49a32cdcc87ebaf99dd0099fb7774ef30f010dfb6f2\n",
            "Successfully built pyqrcode\n",
            "Installing collected packages: pyqrcode\n",
            "Successfully installed pyqrcode-1.2.1\n"
          ]
        }
      ]
    },
    {
      "cell_type": "code",
      "execution_count": 2,
      "metadata": {
        "id": "2hw5AbmcwVSv"
      },
      "outputs": [],
      "source": [
        "import os\n",
        "from google.colab import userdata\n",
        "os.environ[\"OPENAI_API_KEY\"] = userdata.get('OPENAI_API_KEY')"
      ]
    },
    {
      "cell_type": "code",
      "source": [
        "from langchain_core.prompts import ChatPromptTemplate\n",
        "from langchain_openai import ChatOpenAI\n",
        "import numexpr\n",
        "from langchain_core.output_parsers import StrOutputParser\n",
        "from langchain_experimental.utilities import PythonREPL\n",
        "from langchain_core.runnables import RunnablePassthrough"
      ],
      "metadata": {
        "id": "CFBKj9pU3foW"
      },
      "execution_count": 26,
      "outputs": []
    },
    {
      "cell_type": "markdown",
      "source": [
        "# Math Chain"
      ],
      "metadata": {
        "id": "PAyCekN5zhey"
      }
    },
    {
      "cell_type": "code",
      "source": [
        "prompt_template = ChatPromptTemplate.from_template(\n",
        "    \"For {query}, write only the mathematical expression suitable for numexpr.evaluate().\")\n",
        "chain = prompt_template | ChatOpenAI() | StrOutputParser() | numexpr.evaluate\n",
        "chain.invoke({'query' : 'What is 13 raised to the .3432 power?'})"
      ],
      "metadata": {
        "id": "vWrjEoLF3vxJ",
        "outputId": "545f69a9-643e-4637-bd70-f5909d5ea492",
        "colab": {
          "base_uri": "https://localhost:8080/"
        }
      },
      "execution_count": 9,
      "outputs": [
        {
          "output_type": "execute_result",
          "data": {
            "text/plain": [
              "array(2.41160046)"
            ]
          },
          "metadata": {},
          "execution_count": 9
        }
      ]
    },
    {
      "cell_type": "code",
      "source": [
        "numexpr.evaluate('13**.3432')"
      ],
      "metadata": {
        "colab": {
          "base_uri": "https://localhost:8080/"
        },
        "id": "zoYcSeL2cX9y",
        "outputId": "964890b3-d3bf-4a8e-decf-3e59e40a937c"
      },
      "execution_count": 7,
      "outputs": [
        {
          "output_type": "execute_result",
          "data": {
            "text/plain": [
              "array(2.41160046)"
            ]
          },
          "metadata": {},
          "execution_count": 7
        }
      ]
    },
    {
      "cell_type": "markdown",
      "source": [
        "# SQL Chain"
      ],
      "metadata": {
        "id": "KTfdTuvlmE0v"
      }
    },
    {
      "cell_type": "code",
      "source": [
        "import urllib.request\n",
        "\n",
        "urllib.request.urlretrieve(\n",
        "    \"https://raw.githubusercontent.com/lerocha/chinook-database/master/ChinookDatabase/DataSources/Chinook_Sqlite.sql\",\n",
        "    filename=\"Chinook_Sqlite.sql\",\n",
        ")"
      ],
      "metadata": {
        "id": "GyLqlNE2cc4M",
        "colab": {
          "base_uri": "https://localhost:8080/"
        },
        "outputId": "cf6cee06-e739-43ac-af61-426db4553b95"
      },
      "execution_count": 11,
      "outputs": [
        {
          "output_type": "execute_result",
          "data": {
            "text/plain": [
              "('Chinook_Sqlite.sql', <http.client.HTTPMessage at 0x798587ea7700>)"
            ]
          },
          "metadata": {},
          "execution_count": 11
        }
      ]
    },
    {
      "cell_type": "code",
      "source": [
        "import sqlite3\n",
        "\n",
        "conn = sqlite3.connect('Chinook.db')\n",
        "\n",
        "with open(\"Chinook_Sqlite.sql\", 'r') as file:\n",
        "    script = file.read()\n",
        "\n",
        "conn.executescript(script)\n",
        "conn.close()"
      ],
      "metadata": {
        "id": "3mSPl9-Bm8lu"
      },
      "execution_count": 13,
      "outputs": []
    },
    {
      "cell_type": "code",
      "source": [
        "from langchain_community.utilities import SQLDatabase\n",
        "\n",
        "db = SQLDatabase.from_uri(\"sqlite:///Chinook.db\")"
      ],
      "metadata": {
        "id": "K9onUw8ZnE5j"
      },
      "execution_count": 14,
      "outputs": []
    },
    {
      "cell_type": "code",
      "source": [
        "from langchain_core.prompts import ChatPromptTemplate\n",
        "from langchain_openai import ChatOpenAI\n",
        "from langchain_core.output_parsers import StrOutputParser\n",
        "from langchain_core.runnables import RunnablePassthrough"
      ],
      "metadata": {
        "id": "HsJJgRucnMJ9"
      },
      "execution_count": 15,
      "outputs": []
    },
    {
      "cell_type": "code",
      "source": [
        "prompt_template = ChatPromptTemplate.from_template(\"\"\"Based on the table schema below,\n",
        "write a SQL query that would answer the user's question:\n",
        "\n",
        "{schema}\n",
        "\n",
        "Question: {question}\n",
        "SQL Query:\"\"\")\n",
        "\n",
        "def get_schema(_):\n",
        "    return db.get_table_info()\n",
        "\n",
        "chain = (RunnablePassthrough.assign(schema = get_schema)\n",
        "         | prompt_template\n",
        "         | ChatOpenAI()\n",
        "         | StrOutputParser()\n",
        "         | db.run)"
      ],
      "metadata": {
        "id": "DKz9KrN0nbZH"
      },
      "execution_count": 19,
      "outputs": []
    },
    {
      "cell_type": "code",
      "source": [
        "chain.invoke({\"question\":'점원의 수는?'})"
      ],
      "metadata": {
        "colab": {
          "base_uri": "https://localhost:8080/",
          "height": 35
        },
        "id": "KApfezNynjVj",
        "outputId": "d11a8a5a-eec9-4a01-a793-b97aaf9af7d0"
      },
      "execution_count": 20,
      "outputs": [
        {
          "output_type": "execute_result",
          "data": {
            "text/plain": [
              "'[(8,)]'"
            ],
            "application/vnd.google.colaboratory.intrinsic+json": {
              "type": "string"
            }
          },
          "metadata": {},
          "execution_count": 20
        }
      ]
    },
    {
      "cell_type": "markdown",
      "source": [
        "# Code Chain"
      ],
      "metadata": {
        "id": "x1sXfP7OyUAw"
      }
    },
    {
      "cell_type": "code",
      "source": [
        "template = \"\"\"Write some python code to solve the user's problem.\n",
        "Do not ask the user again for confirmation or additional information.\n",
        "Return must only python code that can be directly executed.\"\"\"\n",
        "\n",
        "prompt_template = ChatPromptTemplate.from_messages(\n",
        "    [(\"system\", template),\n",
        "     (\"human\", \"{user_input}\")]\n",
        ")\n",
        "\n",
        "chain = {\"user_input\": RunnablePassthrough()} | prompt_template | ChatOpenAI() | StrOutputParser() | PythonREPL().run\n",
        "chain.invoke(\"https://tykimos.github.io QR코드 이미지 생성해줘\")"
      ],
      "metadata": {
        "colab": {
          "base_uri": "https://localhost:8080/",
          "height": 35
        },
        "id": "wdPFaX-3zDps",
        "outputId": "949dc33c-d29b-49e5-bcc5-1d461b520a9a"
      },
      "execution_count": 31,
      "outputs": [
        {
          "output_type": "execute_result",
          "data": {
            "text/plain": [
              "''"
            ],
            "application/vnd.google.colaboratory.intrinsic+json": {
              "type": "string"
            }
          },
          "metadata": {},
          "execution_count": 31
        }
      ]
    }
  ]
}