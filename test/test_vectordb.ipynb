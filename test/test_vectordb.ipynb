{
 "cells": [
  {
   "cell_type": "code",
   "execution_count": 6,
   "metadata": {},
   "outputs": [
    {
     "data": {
      "text/plain": [
       "True"
      ]
     },
     "execution_count": 6,
     "metadata": {},
     "output_type": "execute_result"
    }
   ],
   "source": [
    "import sys\n",
    "import os\n",
    "sys.path.append(os.path.abspath(os.path.join(os.getcwd(), '..')))\n",
    "\n",
    "# api key\n",
    "from dotenv import load_dotenv\n",
    "load_dotenv()\n"
   ]
  },
  {
   "cell_type": "code",
   "execution_count": 2,
   "metadata": {},
   "outputs": [
    {
     "name": "stderr",
     "output_type": "stream",
     "text": [
      "INFO:__main__:CH17-LANGGRAPH\n"
     ]
    }
   ],
   "source": [
    "import logging\n",
    "from app.config import setup_logging\n",
    "\n",
    "# 로깅 설정\n",
    "logger = setup_logging()\n",
    "\n",
    "\n",
    "# 로깅 설정\n",
    "logging.basicConfig(level=logging.INFO)\n",
    "logger = logging.getLogger(__name__)\n",
    "\n",
    "# 프로젝트 이름을 입력합니다.\n",
    "logger.info(\"CH17-LANGGRAPH\")\n"
   ]
  },
  {
   "cell_type": "code",
   "execution_count": 3,
   "metadata": {},
   "outputs": [],
   "source": [
    "from app.server import get_context\n",
    "from langgraph.graph import END, StateGraph\n",
    "from langgraph.checkpoint.memory import MemorySaver\n",
    "from app.core import AgentState\n",
    "\n",
    "\n",
    "# langgraph.graph에서 StateGraph와 END를 가져옵니다.\n",
    "workflow = StateGraph(AgentState)\n",
    "\n",
    "# 노드들을 정의합니다.\n",
    "workflow.add_node(\"get_context\", get_context) \n",
    "\n",
    "\n",
    "# 조건부 엣지를 추가합니다.\n",
    "# workflow.add_conditional_edges(\n",
    "#     \"relevance_check\",  # 관련성 체크 노드에서 나온 결과를 is_relevant 함수에 전달합니다.\n",
    "#     is_relevant,\n",
    "#     {\n",
    "#         \"관련성 O\": END,  # 관련성이 있으면 종료합니다.\n",
    "#         \"관련성 X\": \"retrieve\",  # 관련성이 없으면 다시 답변을 생성합니다.\n",
    "#         \"확인불가\": \"retrieve\",  # 관련성 체크 결과가 모호하다면 다시 답변을 생성합니다.\n",
    "#     },\n",
    "# )\n",
    "\n",
    "# 시작점을 설정합니다.\n",
    "workflow.set_entry_point(\"get_context\")\n",
    "workflow.set_finish_point(\"get_context\")\n",
    "\n",
    "# 기록을 위한 메모리 저장소를 설정합니다.\n",
    "memory = MemorySaver()\n",
    "\n",
    "# 그래프를 컴파일합니다.\n",
    "graph = workflow.compile(checkpointer=memory)\n"
   ]
  },
  {
   "cell_type": "code",
   "execution_count": 4,
   "metadata": {},
   "outputs": [
    {
     "data": {
      "image/jpeg": "[encoded data removed]",
      "text/plain": [
       "<IPython.core.display.Image object>"
      ]
     },
     "metadata": {},
     "output_type": "display_data"
    }
   ],
   "source": [
    "from IPython.display import Image, display\n",
    "\n",
    "try:\n",
    "    display(\n",
    "        Image(graph.get_graph(xray=True).draw_mermaid_png())\n",
    "    )  # 실행 가능한 객체의 그래프를 mermaid 형식의 PNG로 그려서 표시합니다. xray=True는 추가적인 세부 정보를 포함합니다.\n",
    "except:\n",
    "    # 이 부분은 추가적인 의존성이 필요하며 선택적으로 실행됩니다.\n",
    "    pass"
   ]
  },
  {
   "cell_type": "code",
   "execution_count": null,
   "metadata": {},
   "outputs": [],
   "source": [
    "# from app.core import ChatHistory\n",
    "\n",
    "config = {\"configurable\": {\"thread_id\": \"1\"}}\n",
    "chat_history = []\n",
    "\n",
    "user_input = input(\"User: \")\n",
    "\n",
    "print(f\"Query type: {type(user_input)}\")\n",
    "\n",
    "# 사용자 입력을 chat_history에 추가\n",
    "chat_history.append({\"role\": \"human\", \"content\": user_input})\n",
    "\n",
    "# graph.stream에 필요한 키들을 포함\n",
    "agent_state = {\n",
    "    \"messages\": \"\",\n",
    "    \"chat_history\": chat_history,\n",
    "    \"question\": user_input,\n",
    "    \"context\": \"\",\n",
    "    \"response\": \"\",\n",
    "}\n",
    "\n",
    "for event in graph.stream(agent_state, config):\n",
    "    for value in event.values():\n",
    "        print(\"\\n=====================================\\n\" + str(value))\n",
    "        # assistant_response = value[\"messages\"][-1].content\n",
    "        # print(\"Assistant:\", assistant_response)\n",
    "        \n",
    "        # # 어시스턴트의 응답을 chat_history에 추가\n",
    "        # chat_history.append({\"role\": \"assistant\", \"content\": assistant_response})\n",
    "        \n",
    "        print(\"Assistant:\", value[\"chat_history\"][-1][\"content\"])\n",
    "        print(\"Assistant:\", value[\"context\"])"
   ]
  }
 ],
 "metadata": {
  "kernelspec": {
   "display_name": "langservtest",
   "language": "python",
   "name": "python3"
  },
  "language_info": {
   "codemirror_mode": {
    "name": "ipython",
    "version": 3
   },
   "file_extension": ".py",
   "mimetype": "text/x-python",
   "name": "python",
   "nbconvert_exporter": "python",
   "pygments_lexer": "ipython3",
   "version": "3.11.9"
  }
 },
 "nbformat": 4,
 "nbformat_minor": 2
}
